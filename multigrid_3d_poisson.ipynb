{
 "cells": [
  {
   "cell_type": "code",
   "execution_count": 1,
   "id": "ef0d3006",
   "metadata": {},
   "outputs": [],
   "source": [
    "import numpy as np\n",
    "import matplotlib.pyplot as plt\n",
    "import time\n",
    "from matplotlib.ticker import MaxNLocator"
   ]
  },
  {
   "cell_type": "code",
   "execution_count": 2,
   "id": "c8f3942c",
   "metadata": {},
   "outputs": [],
   "source": [
    "# smoother\n",
    "def Jacrelax(level, nx, ny, nz, u, f, iters=1, pre=False):\n",
    "    dx = 1.0 / nx\n",
    "    dy = 1.0 / ny\n",
    "    dz = 1.0 / nz\n",
    "    Ax = 1.0 / dx**2\n",
    "    Ay = 1.0 / dy**2\n",
    "    Az = 1.0 / dz**2\n",
    "    Ap = 1.0 / (2.0*(1.0/dx**2 + 1.0/dy**2 + 1.0/dz**2))\n",
    "\n",
    "    # Dirichlet Boundary Conditions\n",
    "    u[ 0,:,:] = -u[ 1,:,:]\n",
    "    u[-1,:,:] = -u[-2,:,:]\n",
    "    u[: ,0,:] = -u[:, 1,:]\n",
    "    u[:,-1,:] = -u[:,-2,:]\n",
    "    u[:,:, 0] = -u[:,:, 1]\n",
    "    u[:,:,-1] = -u[:,:,-2]\n",
    "\n",
    "    if(pre and level>1):\n",
    "        u[1:nx+1, 1:ny+1, 1:nz+1] = - Ap*f[1:nx+1, 1:ny+1, 1:nz+1]\n",
    "        \n",
    "        # Dirichlet BC\n",
    "        u[ 0,:,:] = -u[ 1,:,:]\n",
    "        u[-1,:,:] = -u[-2,:,:]\n",
    "        u[: ,0,:] = -u[:, 1,:]\n",
    "        u[:,-1,:] = -u[:,-2,:]\n",
    "        u[:,:, 0] = -u[:,:, 1]\n",
    "        u[:,:,-1] = -u[:,:,-2]\n",
    "        iters -= iters\n",
    "    \n",
    "    for _ in range(iters):\n",
    "        u[1:nx+1, 1:ny+1, 1:nz+1] = Ap*(Ax*(u[2:nx+2, 1:ny+1, 1:nz+1] + u[0:nx, 1:ny+1, 1:nz+1])\n",
    "                                    + Ay*(u[1:nx+1, 2:ny+2, 1:nz+1] + u[1:nx+1, 0:ny, 1:nz+1])\n",
    "                                    + Az*(u[1:nx+1, 1:ny+1, 2:nz+2] + u[1:nx+1, 1:ny+1, 0:nz])\n",
    "                                    - f[1:nx+1, 1:ny+1, 1:nz+1])\n",
    "        #Dirichlet BC\n",
    "        u[ 0,:,:] = -u[ 1,:,:]\n",
    "        u[-1,:,:] = -u[-2,:,:]\n",
    "        u[: ,0,:] = -u[:, 1,:]\n",
    "        u[:,-1,:] = -u[:,-2,:]\n",
    "        u[:,:, 0] = -u[:,:, 1]\n",
    "        u[:,:,-1] = -u[:,:,-2]\n",
    "        \n",
    "  \n",
    "    res = np.zeros([nx+2, ny+2, nz+2])\n",
    "    res[1:nx+1,1:ny+1,1:nz+1] = f[1:nx+1, 1:ny+1, 1:nz+1] - (Ax*(u[2:nx+2, 1:ny+1, 1:nz+1] + u[0:nx, 1:ny+1, 1:nz+1])\n",
    "                                                   + Ay*(u[1:nx+1, 2:ny+2, 1:nz+1] + u[1:nx+1, 0:ny, 1:nz+1])\n",
    "                                                   + Az*(u[1:nx+1, 1:ny+1, 2:nz+2] + u[1:nx+1, 1:ny+1, 0:nz])\n",
    "                                                   - 2.0*(Ax+Ay+Az) * u[1:nx+1, 1:ny+1, 1:nx+1])\n",
    "    \n",
    "    return u, res"
   ]
  },
  {
   "cell_type": "code",
   "execution_count": 3,
   "id": "d1317c3a",
   "metadata": {},
   "outputs": [],
   "source": [
    "# restriction\n",
    "def restrict(nx, ny, nz, v):\n",
    "    v_c = np.zeros([nx+2, ny+2, nz+2])\n",
    "\n",
    "    v_c[1:nx+1, 1:ny+1, 1:nz+1] = 0.125*(v[1:2*nx:2, 1:2*ny:2, 1:2*nz:2] + v[1:2*nx:2, 2:2*ny+1:2, 1:2*nz:2] \n",
    "                                + v[2:2*nx+1:2, 1:2*ny:2, 1:2*nz:2] + v[2:2*nx+1:2, 2:2*ny+1:2, 1:2*nz:2]\n",
    "                                + v[1:2*nx:2, 1:2*ny:2, 2:2*nz+1:2] + v[1:2*nx:2, 2:2*ny+1:2, 2:2*nz+1:2] \n",
    "                                + v[2:2*nx+1:2, 1:2*ny:2, 2:2*nz+1:2] + v[2:2*nx+1:2, 2:2*ny+1:2, 2:2*nz+1:2])\n",
    "    return v_c"
   ]
  },
  {
   "cell_type": "code",
   "execution_count": 4,
   "id": "5607e375",
   "metadata": {},
   "outputs": [],
   "source": [
    "# prolongation\n",
    "def prolong(nx, ny, nz, v):\n",
    "    v_f = np.zeros([2*nx+2, 2*ny+2, 2*nz+2])\n",
    "\n",
    "    a = 27.0/64\n",
    "    b = 9.0/64\n",
    "    c = 3.0/64\n",
    "    d = 1.0/64\n",
    "\n",
    "    v_f[1:2*nx:2  ,1:2*ny:2  ,1:2*nz:2  ] = a*v[1:nx+1,1:ny+1,1:nz+1] + b*(v[0:nx  ,1:ny+1,1:nz+1] + v[1:nx+1,0:ny  ,1:nz+1] + v[1:nx+1,1:ny+1,0:nz  ]) + c*(v[0:nx  ,0:ny  ,1:nz+1] + v[0:nx  ,1:ny+1,0:nz  ] + v[1:nx+1,0:ny  ,0:nz  ]) + d*v[0:nx  ,0:ny  ,0:nz  ]\n",
    "    v_f[2:2*nx+1:2,1:2*ny:2  ,1:2*nz:2  ] = a*v[1:nx+1,1:ny+1,1:nz+1] + b*(v[2:nx+2,1:ny+1,1:nz+1] + v[1:nx+1,0:ny  ,1:nz+1] + v[1:nx+1,1:ny+1,0:nz  ]) + c*(v[2:nx+2,0:ny  ,1:nz+1] + v[2:nx+2,1:ny+1,0:nz  ] + v[1:nx+1,0:ny  ,0:nz  ]) + d*v[2:nx+2,0:ny  ,0:nz  ]\n",
    "    v_f[1:2*nx:2  ,2:2*ny+1:2,1:2*nz:2  ] = a*v[1:nx+1,1:ny+1,1:nz+1] + b*(v[0:nx  ,1:ny+1,1:nz+1] + v[1:nx+1,2:ny+2,1:nz+1] + v[1:nx+1,1:ny+1,0:nz  ]) + c*(v[0:nx  ,2:ny+2,1:nz+1] + v[0:nx  ,1:ny+1,0:nz  ] + v[1:nx+1,2:ny+2,0:nz  ]) + d*v[0:nx  ,2:ny+2,0:nz  ]\n",
    "    v_f[2:2*nx+1:2,2:2*ny+1:2,1:2*nz:2  ] = a*v[1:nx+1,1:ny+1,1:nz+1] + b*(v[2:nx+2,1:ny+1,1:nz+1] + v[1:nx+1,2:ny+2,1:nz+1] + v[1:nx+1,1:ny+1,0:nz  ]) + c*(v[2:nx+2,2:ny+2,1:nz+1] + v[2:nx+2,1:ny+1,0:nz  ] + v[1:nx+1,2:ny+2,0:nz  ]) + d*v[2:nx+2,2:ny+2,0:nz  ]\n",
    "    v_f[1:2*nx:2  ,1:2*ny:2  ,2:2*nz+1:2] = a*v[1:nx+1,1:ny+1,1:nz+1] + b*(v[0:nx  ,1:ny+1,1:nz+1] + v[1:nx+1,0:ny  ,1:nz+1] + v[1:nx+1,1:ny+1,2:nz+2]) + c*(v[0:nx  ,0:ny  ,1:nz+1] + v[0:nx  ,1:ny+1,2:nz+2] + v[1:nx+1,0:ny  ,2:nz+2]) + d*v[0:nx  ,0:ny  ,2:nz+2]\n",
    "    v_f[2:2*nx+1:2,1:2*ny:2  ,2:2*nz+1:2] = a*v[1:nx+1,1:ny+1,1:nz+1] + b*(v[2:nx+2,1:ny+1,1:nz+1] + v[1:nx+1,0:ny  ,1:nz+1] + v[1:nx+1,1:ny+1,2:nz+2]) + c*(v[2:nx+2,0:ny  ,1:nz+1] + v[2:nx+2,1:ny+1,2:nz+2] + v[1:nx+1,0:ny  ,2:nz+2]) + d*v[2:nx+2,0:ny  ,2:nz+2]\n",
    "    v_f[1:2*nx:2  ,2:2*ny+1:2,2:2*nz+1:2] = a*v[1:nx+1,1:ny+1,1:nz+1] + b*(v[0:nx  ,1:ny+1,1:nz+1] + v[1:nx+1,2:ny+2,1:nz+1] + v[1:nx+1,1:ny+1,2:nz+2]) + c*(v[0:nx  ,2:ny+2,1:nz+1] + v[0:nx  ,1:ny+1,2:nz+2] + v[1:nx+1,2:ny+2,2:nz+2]) + d*v[0:nx  ,2:ny+2,2:nz+2]\n",
    "    v_f[2:2*nx+1:2,2:2*ny+1:2,2:2*nz+1:2] = a*v[1:nx+1,1:ny+1,1:nz+1] + b*(v[2:nx+2,1:ny+1,1:nz+1] + v[1:nx+1,2:ny+2,1:nz+1] + v[1:nx+1,1:ny+1,2:nz+2]) + c*(v[2:nx+2,2:ny+2,1:nz+1] + v[2:nx+2,1:ny+1,2:nz+2] + v[1:nx+1,2:ny+2,2:nz+2]) + d*v[2:nx+2,2:ny+2,2:nz+2]\n",
    "    \n",
    "    return v_f"
   ]
  },
  {
   "cell_type": "code",
   "execution_count": 5,
   "id": "978f8765",
   "metadata": {},
   "outputs": [],
   "source": [
    "def V_cycle(nx, ny, nz, num_levels, u, f, level=1):\n",
    "    # bottom solve\n",
    "    if level == num_levels:\n",
    "        u, res = Jacrelax(level, nx, ny, nz, u, f, iters=50)\n",
    "        return u, res\n",
    "\n",
    "    # Step 1: smooth Au=f on this grid\n",
    "    u, res = Jacrelax(level, nx, ny, nz, u, f, iters=1, pre=True)\n",
    "\n",
    "    # Step 2: Restrict residual to coarse grid\n",
    "    res_c = restrict(nx//2, ny//2, nz//2, res)\n",
    "\n",
    "    # Step 3: Solve A e_c=res_c on the coarse grid recursively\n",
    "    e_c = np.zeros_like(res_c)\n",
    "    e_c, res_c = V_cycle(nx//2, ny//2, nz//2, num_levels, e_c, res_c, level+1)\n",
    "\n",
    "    # Step 4: prolong e_c to fine grid and add to u\n",
    "    u += prolong(nx//2, ny//2, nz//2, e_c)\n",
    "\n",
    "    # Step 5: smooth Au=f on this grid\n",
    "    u, res = Jacrelax(level, nx, ny, nz, u, f, iters=1)\n",
    "\n",
    "    return u, res"
   ]
  },
  {
   "cell_type": "code",
   "execution_count": 6,
   "id": "53a3c8f4",
   "metadata": {},
   "outputs": [],
   "source": [
    "# full-cycle\n",
    "def FMG(nx,ny,nz,num_levels,f,nv=1,level=1):\n",
    "    # bottom solve\n",
    "    if level == num_levels:\n",
    "        u = np.zeros([nx+2, ny+2, nz+2])  \n",
    "        u, res = Jacrelax(level, nx, ny, nz, u, f, iters=1)\n",
    "        return u, res\n",
    "\n",
    "    # Step 1: Restrict the eighthand-side to a coarse grid\n",
    "    f_c = restrict(nx//2, ny//2, nz//2, f)\n",
    "\n",
    "    # Step 2: Solve the coarse grid problem using FMG\n",
    "    u_c, _ = FMG(nx//2, ny//2, nz//2, num_levels, f_c, nv, level+1)\n",
    "\n",
    "    # Step 3: Interpolate u_c to the fine grid\n",
    "    u = prolong(nx//2, ny//2, nz//2, u_c)\n",
    "\n",
    "    # Step 4: Execute 'nv' V-cycles\n",
    "    for _ in range(nv):\n",
    "        u, res = V_cycle(nx, ny, nz, num_levels-level, u, f)\n",
    "        \n",
    "    return u, res"
   ]
  },
  {
   "cell_type": "code",
   "execution_count": 7,
   "id": "cdb4e1a4",
   "metadata": {},
   "outputs": [],
   "source": [
    "# analytical solution\n",
    "def Uann(x, y, z, n):\n",
    "    return np.sin(2*n*np.pi*x) * np.sin(2*n*np.pi*y) * np.sin(2*n*np.pi*z)\n",
    "\n",
    "# righthand-side corresponding to above\n",
    "def source(x, y, z, n):\n",
    "    return -12 * (np.pi)**2 * n**2 * np.sin(2*n*np.pi*x) * np.sin(2*n*np.pi*y) * np.sin(2*n*np.pi*z)"
   ]
  },
  {
   "cell_type": "code",
   "execution_count": 8,
   "id": "5b2c40a5",
   "metadata": {},
   "outputs": [],
   "source": [
    "#input\n",
    "max_cycles = 20           #maximum number of V cycles\n",
    "nlevels    = 6            #total number of grid levels. 1 means no multigrid, 2 means one coarse grid. etc \n",
    "NX         = 1*2**(nlevels-1) #Nx and Ny are given as function of grid levels\n",
    "NY         = 1*2**(nlevels-1) \n",
    "NZ         = 1*2**(nlevels-1) \n",
    "tol        = 1e-7"
   ]
  },
  {
   "cell_type": "code",
   "execution_count": 9,
   "id": "9ceb892b",
   "metadata": {},
   "outputs": [],
   "source": [
    "# the grid has one layer of ghost cells to help apply the boundary conditions\n",
    "uann = np.zeros([NX+2, NY+2, NZ+2]) #analytical solution\n",
    "u    = np.zeros([NX+2, NY+2, NZ+2]) #approximation\n",
    "f    = np.zeros([NX+2, NY+2, NZ+2]) #RHS\n",
    "\n",
    "# calcualte the RHS and exact solution\n",
    "DX = 1.0 / NX\n",
    "DY = 1.0 / NY\n",
    "DZ = 1.0 / NZ\n",
    "\n",
    "xc = np.linspace(0.5*DX, 1-0.5*DX, NX)\n",
    "yc = np.linspace(0.5*DY, 1-0.5*DY, NY)\n",
    "zc = np.linspace(0.5*DZ, 1-0.5*DZ, NZ)\n",
    "\n",
    "XX, YY, ZZ = np.meshgrid(xc, yc, zc)\n",
    "\n",
    "uann[1:NX+1,1:NY+1,1:NZ+1] = Uann  (XX,YY,ZZ,1)\n",
    "f   [1:NX+1,1:NY+1,1:NZ+1] = source(XX,YY,ZZ,1)"
   ]
  },
  {
   "cell_type": "code",
   "execution_count": 10,
   "id": "f71c6bda",
   "metadata": {},
   "outputs": [
    {
     "name": "stdout",
     "output_type": "stream",
     "text": [
      "mgd3d.py V-cycle solver:\n",
      "NX: 32 , NY: 32 NZ: 32 , tol: 1e-07 levels:  6\n",
      "  cycle:  1 , L_inf(res.)=  44.25354363743557 ,L_inf(true error):  0.3566508260279563\n",
      "  cycle:  2 , L_inf(res.)=  16.795022358528954 ,L_inf(true error):  0.12856808448784585\n",
      "  cycle:  3 , L_inf(res.)=  6.389823716527175 ,L_inf(true error):  0.045168240468624\n",
      "  cycle:  4 , L_inf(res.)=  2.4381695278130167 ,L_inf(true error):  0.014590460115323056\n",
      "  cycle:  5 , L_inf(res.)=  0.9332501654548935 ,L_inf(true error):  0.0033628564354333257\n",
      "  cycle:  6 , L_inf(res.)=  0.3583876926491314 ,L_inf(true error):  0.0007648835113087671\n",
      "  cycle:  7 , L_inf(res.)=  0.1380940578124239 ,L_inf(true error):  0.00228434508894515\n",
      "  cycle:  8 , L_inf(res.)=  0.05339461676842916 ,L_inf(true error):  0.0028444330568773157\n",
      "  cycle:  9 , L_inf(res.)=  0.02071774251952263 ,L_inf(true error):  0.0030511897469016613\n",
      "  cycle:  10 , L_inf(res.)=  0.008067148985432482 ,L_inf(true error):  0.003127635493244574\n",
      "  cycle:  11 , L_inf(res.)=  0.003152311489898807 ,L_inf(true error):  0.0031559491275857665\n",
      "  cycle:  12 , L_inf(res.)=  0.0012361101776150463 ,L_inf(true error):  0.0031664553939523277\n",
      "  cycle:  13 , L_inf(res.)=  0.00048638636826581205 ,L_inf(true error):  0.003170361796258625\n",
      "  cycle:  14 , L_inf(res.)=  0.00019203009972557084 ,L_inf(true error):  0.003171817420747902\n",
      "  cycle:  15 , L_inf(res.)=  7.606413373650867e-05 ,L_inf(true error):  0.0031723610912958167\n",
      "  cycle:  16 , L_inf(res.)=  3.0224900470443572e-05 ,L_inf(true error):  0.0031725646586966416\n",
      "  cycle:  17 , L_inf(res.)=  1.2046746178384637e-05 ,L_inf(true error):  0.0031726410845015485\n",
      "  cycle:  18 , L_inf(res.)=  5.219981582718636e-06 ,L_inf(true error):  0.00317266985895015\n",
      "  cycle:  19 , L_inf(res.)=  5.02116233365435e-06 ,L_inf(true error):  0.003172680725494814\n",
      "  cycle:  20 , L_inf(res.)=  4.829978638917765e-06 ,L_inf(true error):  0.0031726848426154586\n",
      "Elapsed time:  0.13412189483642578  seconds\n"
     ]
    }
   ],
   "source": [
    "print('mgd3d.py V-cycle solver:')\n",
    "print('NX:',NX,', NY:',NY,'NZ:',NZ,', tol:',tol,'levels: ',nlevels)\n",
    "v_err_arr = []\n",
    "\n",
    "#start solving\n",
    "tb=time.time()\n",
    "\n",
    "#V cycle\n",
    "for it in range(1,max_cycles+1):\n",
    "    u, res = V_cycle(NX,NY,NZ,nlevels,u,f)\n",
    "    rtol = np.max(np.max(np.abs(res)))\n",
    "    \n",
    "    if rtol < tol:\n",
    "        break\n",
    "        \n",
    "    error = uann[1:NX+1, 1:NY+1, 1:NZ+1] - u[1:NX+1, 1:NY+1, 1:NZ+1]\n",
    "    en = np.max(np.max(np.abs(error)))\n",
    "    v_err_arr.append(en)\n",
    "    print('  cycle: ',it,', L_inf(res.)= ',rtol,',L_inf(true error): ',en)\n",
    "\n",
    "print('Elapsed time: ',time.time()-tb,' seconds')"
   ]
  },
  {
   "cell_type": "code",
   "execution_count": 11,
   "id": "a23c9a38",
   "metadata": {},
   "outputs": [
    {
     "data": {
      "text/plain": [
       "[]"
      ]
     },
     "execution_count": 11,
     "metadata": {},
     "output_type": "execute_result"
    },
    {
     "data": {
      "image/png": "[encoded data removed]",
      "text/plain": [
       "<Figure size 640x480 with 1 Axes>"
      ]
     },
     "metadata": {},
     "output_type": "display_data"
    }
   ],
   "source": [
    "# plot iteration versus error\n",
    "iterations = np.arange(0, len(v_err_arr))\n",
    "\n",
    "plt.plot(iterations, v_err_arr)\n",
    "plt.xlabel(\"Iteration\")\n",
    "plt.gca().xaxis.set_major_locator(MaxNLocator(integer=True))\n",
    "plt.ylabel(\"Error\")\n",
    "plt.title(\"Erorr over each iteration for V-cycle method\")\n",
    "plt.grid()\n",
    "plt.plot()"
   ]
  },
  {
   "cell_type": "code",
   "execution_count": 12,
   "id": "7fda61ba",
   "metadata": {},
   "outputs": [
    {
     "name": "stdout",
     "output_type": "stream",
     "text": [
      "mgd3d.py FMG solver:\n",
      "NX: 32 , NY: 32 NZ: 32 , tol: 1e-07 levels:  6\n",
      "  Elapsed time:  0.05422067642211914  seconds\n",
      "  L_inf(true error):  0.007517169715499761\n"
     ]
    }
   ],
   "source": [
    "print('mgd3d.py FMG solver:')\n",
    "print('NX:',NX,', NY:',NY,'NZ:',NZ,', tol:',tol,'levels: ',nlevels)\n",
    "\n",
    "# start solving\n",
    "tb = time.time()\n",
    "\n",
    "u,res = FMG(NX,NY,NZ,nlevels,f,2)\n",
    "print('  Elapsed time: ',time.time()-tb,' seconds')\n",
    "error = uann[1:NX+1,1:NY+1,1:NZ+1] - u[1:NX+1,1:NY+1,1:NZ+1]\n",
    "en = np.max(np.max(np.abs(error)))\n",
    "print('  L_inf(true error): ',en)"
   ]
  },
  {
   "cell_type": "code",
   "execution_count": null,
   "id": "55d85075",
   "metadata": {},
   "outputs": [],
   "source": []
  }
 ],
 "metadata": {
  "kernelspec": {
   "display_name": "Python 3 (ipykernel)",
   "language": "python",
   "name": "python3"
  },
  "language_info": {
   "codemirror_mode": {
    "name": "ipython",
    "version": 3
   },
   "file_extension": ".py",
   "mimetype": "text/x-python",
   "name": "python",
   "nbconvert_exporter": "python",
   "pygments_lexer": "ipython3",
   "version": "3.11.5"
  }
 },
 "nbformat": 4,
 "nbformat_minor": 5
}
